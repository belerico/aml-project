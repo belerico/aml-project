{
  "nbformat": 4,
  "nbformat_minor": 0,
  "metadata": {
    "colab": {
      "name": "main.ipynb",
      "provenance": [],
      "collapsed_sections": [],
      "authorship_tag": "ABX9TyNxNvaUVqmJzVDFCLxlNp6G",
      "include_colab_link": true
    },
    "kernelspec": {
      "name": "python3",
      "display_name": "Python 3"
    }
  },
  "cells": [
    {
      "cell_type": "markdown",
      "metadata": {
        "id": "view-in-github",
        "colab_type": "text"
      },
      "source": [
        "<a href=\"https://colab.research.google.com/github/belerico/aml-project/blob/master/main.ipynb\" target=\"_parent\"><img src=\"https://colab.research.google.com/assets/colab-badge.svg\" alt=\"Open In Colab\"/></a>"
      ]
    },
    {
      "cell_type": "code",
      "metadata": {
        "id": "MDlGNM7Vt-xB",
        "colab_type": "code",
        "colab": {}
      },
      "source": [
        "import os"
      ],
      "execution_count": 0,
      "outputs": []
    },
    {
      "cell_type": "code",
      "metadata": {
        "id": "Nn9CX88OuDsP",
        "colab_type": "code",
        "colab": {
          "base_uri": "https://localhost:8080/",
          "height": 34
        },
        "outputId": "59539f6f-3562-4f82-fe6f-5e65987df7a9"
      },
      "source": [
        "from google.colab import drive\n",
        "drive.mount('/content/drive')\n"
      ],
      "execution_count": 6,
      "outputs": [
        {
          "output_type": "stream",
          "text": [
            "Mounted at /content/drive\n"
          ],
          "name": "stdout"
        }
      ]
    },
    {
      "cell_type": "code",
      "metadata": {
        "id": "Y7czrywPufte",
        "colab_type": "code",
        "colab": {}
      },
      "source": [
        "os.chdir('/content/drive/My Drive/AML')"
      ],
      "execution_count": 0,
      "outputs": []
    },
    {
      "cell_type": "markdown",
      "metadata": {
        "id": "AFQZiMLfv9OI",
        "colab_type": "text"
      },
      "source": [
        "# REPO CLONE\n",
        "If you want to clone the repo[link text](https://)"
      ]
    },
    {
      "cell_type": "code",
      "metadata": {
        "id": "SG9oHm8MvuSR",
        "colab_type": "code",
        "colab": {
          "base_uri": "https://localhost:8080/",
          "height": 173
        },
        "outputId": "d349fca8-2398-4e80-b83b-dc5fac508b80"
      },
      "source": [
        "# Clone the entire repo in current directory\n",
        "!git clone -l -s https://github.com/belerico/aml-project.git aml-project\n",
        "%cd aml-project\n",
        "!ls"
      ],
      "execution_count": 18,
      "outputs": [
        {
          "output_type": "stream",
          "text": [
            "Cloning into 'aml-project'...\n",
            "warning: --local is ignored\n",
            "remote: Enumerating objects: 49, done.\u001b[K\n",
            "remote: Counting objects: 100% (49/49), done.\u001b[K\n",
            "remote: Compressing objects: 100% (29/29), done.\u001b[K\n",
            "remote: Total 49 (delta 18), reused 40 (delta 13), pack-reused 0\u001b[K\n",
            "Unpacking objects: 100% (49/49), done.\n",
            "/content/drive/My Drive/AML/aml-project\n",
            "dataset  LICENSE  main.py  models.py  README.md  references  test  utils.py\n"
          ],
          "name": "stdout"
        }
      ]
    },
    {
      "cell_type": "markdown",
      "metadata": {
        "id": "BbsCJpCSwEVl",
        "colab_type": "text"
      },
      "source": [
        "# Execution\n"
      ]
    },
    {
      "cell_type": "code",
      "metadata": {
        "id": "VCF7crkxu2Wf",
        "colab_type": "code",
        "colab": {}
      },
      "source": [
        "from dataset import get_data\n",
        "from models import get_deep_cross_model\n",
        "\n",
        "from utils import dot_similarity, get_pretrained_embedding\n"
      ],
      "execution_count": 0,
      "outputs": []
    },
    {
      "cell_type": "code",
      "metadata": {
        "id": "MdUWzCg0vcBF",
        "colab_type": "code",
        "colab": {}
      },
      "source": [
        "DATA_PATH = 'data/all'\n",
        "PRETRAINED_EMBEDDING_PATH = args.pretrained_embeddings_path\n",
        "NUM_WORDS = 1000\n",
        "MAX_LEN = 20\n",
        "BATCH_SIZE = 32\n",
        "EMBEDDING_DIM = 100"
      ],
      "execution_count": 0,
      "outputs": []
    },
    {
      "cell_type": "code",
      "metadata": {
        "id": "grPVHhiNvV2j",
        "colab_type": "code",
        "colab": {}
      },
      "source": [
        "print('Loading data')\n",
        "train_gen, val_gen, word_index = get_data(DATA_PATH, NUM_WORDS, MAX_LEN, BATCH_SIZE,\n",
        "                                          train_test_split=0.8)\n",
        "\n",
        "matrix_similarity_function = dot_similarity\n",
        "embedding_matrix = None\n",
        "\n",
        "if PRETRAINED_EMBEDDING_PATH != \"\":\n",
        "    embedding_matrix = get_pretrained_embedding(PRETRAINED_EMBEDDING_PATH, NUM_WORDS + 1,\n",
        "                                                EMBEDDING_DIM, word_index)\n",
        "\n",
        "# TODO: create function 'fitting' (useful for HPO)\n",
        "model = get_deep_cross_model(NUM_WORDS + 1, EMBEDDING_DIM, MAX_LEN, matrix_similarity_function,\n",
        "                             embedding_matrix)\n",
        "model.summary()\n",
        "model.compile('adam', loss='binary_crossentropy', metrics=['accuracy'])\n",
        "print(\"Start training\")\n",
        "model.fit(train_gen, validation_data=val_gen, epochs=10, verbose=2)\n"
      ],
      "execution_count": 0,
      "outputs": []
    }
  ]
}