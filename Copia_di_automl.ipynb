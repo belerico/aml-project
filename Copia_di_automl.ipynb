{
  "nbformat": 4,
  "nbformat_minor": 0,
  "metadata": {
    "colab": {
      "name": "Copia di automl.ipynb",
      "provenance": [],
      "collapsed_sections": [
        "WNIW09PXmA1_",
        "3PTACFE5Qjgx"
      ],
      "include_colab_link": true
    },
    "kernelspec": {
      "name": "python3",
      "display_name": "Python 3"
    },
    "accelerator": "GPU"
  },
  "cells": [
    {
      "cell_type": "markdown",
      "metadata": {
        "id": "view-in-github",
        "colab_type": "text"
      },
      "source": [
        "<a href=\"https://colab.research.google.com/github/belerico/aml-project/blob/master/Copia_di_automl.ipynb\" target=\"_parent\"><img src=\"https://colab.research.google.com/assets/colab-badge.svg\" alt=\"Open In Colab\"/></a>"
      ]
    },
    {
      "cell_type": "code",
      "metadata": {
        "id": "PyC8HmVna3HV",
        "colab_type": "code",
        "outputId": "9f60631c-0c45-4c26-b9db-71ac8b8e720a",
        "colab": {
          "base_uri": "https://localhost:8080/",
          "height": 141
        }
      },
      "source": [
        "from google.colab import drive\n",
        "drive.mount('/content/drive')\n",
        "%cd drive/My\\ Drive/AML/aml-project"
      ],
      "execution_count": 1,
      "outputs": [
        {
          "output_type": "stream",
          "text": [
            "Go to this URL in a browser: https://accounts.google.com/o/oauth2/auth?client_id=947318989803-6bn6qk8qdgf4n4g3pfee6491hc0brc4i.apps.googleusercontent.com&redirect_uri=urn%3aietf%3awg%3aoauth%3a2.0%3aoob&response_type=code&scope=email%20https%3a%2f%2fwww.googleapis.com%2fauth%2fdocs.test%20https%3a%2f%2fwww.googleapis.com%2fauth%2fdrive%20https%3a%2f%2fwww.googleapis.com%2fauth%2fdrive.photos.readonly%20https%3a%2f%2fwww.googleapis.com%2fauth%2fpeopleapi.readonly\n",
            "\n",
            "Enter your authorization code:\n",
            "··········\n",
            "Mounted at /content/drive\n",
            "/content/drive/My Drive/AML/aml-project\n"
          ],
          "name": "stdout"
        }
      ]
    },
    {
      "cell_type": "code",
      "metadata": {
        "id": "O-iUGi_oHxXL",
        "colab_type": "code",
        "outputId": "406f2234-4416-4b79-a3c8-f86843ee945e",
        "colab": {
          "base_uri": "https://localhost:8080/",
          "height": 221
        }
      },
      "source": [
        "! git pull"
      ],
      "execution_count": 0,
      "outputs": [
        {
          "output_type": "stream",
          "text": [
            "remote: Enumerating objects: 9, done.\u001b[K\n",
            "remote: Counting objects:  11% (1/9)\u001b[K\rremote: Counting objects:  22% (2/9)\u001b[K\rremote: Counting objects:  33% (3/9)\u001b[K\rremote: Counting objects:  44% (4/9)\u001b[K\rremote: Counting objects:  55% (5/9)\u001b[K\rremote: Counting objects:  66% (6/9)\u001b[K\rremote: Counting objects:  77% (7/9)\u001b[K\rremote: Counting objects:  88% (8/9)\u001b[K\rremote: Counting objects: 100% (9/9)\u001b[K\rremote: Counting objects: 100% (9/9), done.\u001b[K\n",
            "remote: Compressing objects:  50% (1/2)\u001b[K\rremote: Compressing objects: 100% (2/2)\u001b[K\rremote: Compressing objects: 100% (2/2), done.\u001b[K\n",
            "remote: Total 6 (delta 4), reused 6 (delta 4), pack-reused 0\u001b[K\n",
            "Unpacking objects: 100% (6/6), done.\n",
            "From https://github.com/belerico/aml-project\n",
            "   b9dec89..e45a08e  master     -> origin/master\n",
            "Updating b9dec89..e45a08e\n",
            "Fast-forward\n",
            " fitness.py | 70 \u001b[32m+++++++++++++++++++++++++++++++++\u001b[m\u001b[31m-----------------------------\u001b[m\n",
            " models.py  | 23 \u001b[32m+++++++\u001b[m\u001b[31m--------------\u001b[m\n",
            " 2 files changed, 44 insertions(+), 49 deletions(-)\n"
          ],
          "name": "stdout"
        }
      ]
    },
    {
      "cell_type": "code",
      "metadata": {
        "id": "AxMSuQUyKhd6",
        "colab_type": "code",
        "outputId": "2df844ca-7e0d-4697-8dfc-3ed29ecca26f",
        "colab": {
          "base_uri": "https://localhost:8080/",
          "height": 1000
        }
      },
      "source": [
        "!pip install pyGPGO\n",
        "!pip install pyDOE\n",
        "!pip install tensorflow==2.0 keras==2.3.1\n",
        "!pip install --pre -U matplotlib\n",
        "!pip install nltk\n",
        "import nltk\n",
        "nltk.download('punkt')\n",
        "nltk.download('stopwords')"
      ],
      "execution_count": 2,
      "outputs": [
        {
          "output_type": "stream",
          "text": [
            "Collecting pyGPGO\n",
            "  Downloading https://files.pythonhosted.org/packages/8d/87/a113c91ba014708114f7635d5c0f6a5e5c773480c5f0a537b257a02d180d/pyGPGO-0.4.0.dev1.tar.gz\n",
            "Requirement already satisfied: numpy in /usr/local/lib/python3.6/dist-packages (from pyGPGO) (1.17.5)\n",
            "Requirement already satisfied: scipy in /usr/local/lib/python3.6/dist-packages (from pyGPGO) (1.4.1)\n",
            "Requirement already satisfied: joblib in /usr/local/lib/python3.6/dist-packages (from pyGPGO) (0.14.1)\n",
            "Requirement already satisfied: scikit-learn in /usr/local/lib/python3.6/dist-packages (from pyGPGO) (0.22.1)\n",
            "Requirement already satisfied: theano in /usr/local/lib/python3.6/dist-packages (from pyGPGO) (1.0.4)\n",
            "Requirement already satisfied: pyMC3 in /usr/local/lib/python3.6/dist-packages (from pyGPGO) (3.7)\n",
            "Requirement already satisfied: six>=1.9.0 in /usr/local/lib/python3.6/dist-packages (from theano->pyGPGO) (1.12.0)\n",
            "Requirement already satisfied: patsy>=0.4.0 in /usr/local/lib/python3.6/dist-packages (from pyMC3->pyGPGO) (0.5.1)\n",
            "Requirement already satisfied: pandas>=0.18.0 in /usr/local/lib/python3.6/dist-packages (from pyMC3->pyGPGO) (0.25.3)\n",
            "Requirement already satisfied: h5py>=2.7.0 in /usr/local/lib/python3.6/dist-packages (from pyMC3->pyGPGO) (2.8.0)\n",
            "Requirement already satisfied: tqdm>=4.8.4 in /usr/local/lib/python3.6/dist-packages (from pyMC3->pyGPGO) (4.28.1)\n",
            "Requirement already satisfied: python-dateutil>=2.6.1 in /usr/local/lib/python3.6/dist-packages (from pandas>=0.18.0->pyMC3->pyGPGO) (2.6.1)\n",
            "Requirement already satisfied: pytz>=2017.2 in /usr/local/lib/python3.6/dist-packages (from pandas>=0.18.0->pyMC3->pyGPGO) (2018.9)\n",
            "Building wheels for collected packages: pyGPGO\n",
            "  Building wheel for pyGPGO (setup.py) ... \u001b[?25l\u001b[?25hdone\n",
            "  Created wheel for pyGPGO: filename=pyGPGO-0.4.0.dev1-cp36-none-any.whl size=19866 sha256=00d85f4d4c6bec7022b8480df3a3e2877ee1fa30e42b3c3a2677cad0349a2a65\n",
            "  Stored in directory: /root/.cache/pip/wheels/d1/27/04/c4fa3bfe194d36e3cd51542132f43415a6813114a5e8301acb\n",
            "Successfully built pyGPGO\n",
            "Installing collected packages: pyGPGO\n",
            "Successfully installed pyGPGO-0.4.0.dev1\n",
            "Collecting pyDOE\n",
            "  Downloading https://files.pythonhosted.org/packages/bc/ac/91fe4c039e2744466621343d3b8af4a485193ed0aab53af5b1db03be0989/pyDOE-0.3.8.zip\n",
            "Requirement already satisfied: numpy in /usr/local/lib/python3.6/dist-packages (from pyDOE) (1.17.5)\n",
            "Requirement already satisfied: scipy in /usr/local/lib/python3.6/dist-packages (from pyDOE) (1.4.1)\n",
            "Building wheels for collected packages: pyDOE\n",
            "  Building wheel for pyDOE (setup.py) ... \u001b[?25l\u001b[?25hdone\n",
            "  Created wheel for pyDOE: filename=pyDOE-0.3.8-cp36-none-any.whl size=18178 sha256=4a915386529ab63c45353fff767ad12feab93e97b5838af150305075db1911f2\n",
            "  Stored in directory: /root/.cache/pip/wheels/7c/c8/58/a6493bd415e8ba5735082b5e0c096d7c1f2933077a8ce34544\n",
            "Successfully built pyDOE\n",
            "Installing collected packages: pyDOE\n",
            "Successfully installed pyDOE-0.3.8\n",
            "Collecting tensorflow==2.0\n",
            "\u001b[?25l  Downloading https://files.pythonhosted.org/packages/46/0f/7bd55361168bb32796b360ad15a25de6966c9c1beb58a8e30c01c8279862/tensorflow-2.0.0-cp36-cp36m-manylinux2010_x86_64.whl (86.3MB)\n",
            "\u001b[K     |████████████████████████████████| 86.3MB 53kB/s \n",
            "\u001b[?25hCollecting keras==2.3.1\n",
            "\u001b[?25l  Downloading https://files.pythonhosted.org/packages/ad/fd/6bfe87920d7f4fd475acd28500a42482b6b84479832bdc0fe9e589a60ceb/Keras-2.3.1-py2.py3-none-any.whl (377kB)\n",
            "\u001b[K     |████████████████████████████████| 378kB 49.4MB/s \n",
            "\u001b[?25hRequirement already satisfied: protobuf>=3.6.1 in /usr/local/lib/python3.6/dist-packages (from tensorflow==2.0) (3.10.0)\n",
            "Requirement already satisfied: termcolor>=1.1.0 in /usr/local/lib/python3.6/dist-packages (from tensorflow==2.0) (1.1.0)\n",
            "Requirement already satisfied: wrapt>=1.11.1 in /usr/local/lib/python3.6/dist-packages (from tensorflow==2.0) (1.11.2)\n",
            "Requirement already satisfied: six>=1.10.0 in /usr/local/lib/python3.6/dist-packages (from tensorflow==2.0) (1.12.0)\n",
            "Requirement already satisfied: astor>=0.6.0 in /usr/local/lib/python3.6/dist-packages (from tensorflow==2.0) (0.8.1)\n",
            "Requirement already satisfied: gast==0.2.2 in /usr/local/lib/python3.6/dist-packages (from tensorflow==2.0) (0.2.2)\n",
            "Collecting tensorflow-estimator<2.1.0,>=2.0.0\n",
            "\u001b[?25l  Downloading https://files.pythonhosted.org/packages/fc/08/8b927337b7019c374719145d1dceba21a8bb909b93b1ad6f8fb7d22c1ca1/tensorflow_estimator-2.0.1-py2.py3-none-any.whl (449kB)\n",
            "\u001b[K     |████████████████████████████████| 450kB 57.7MB/s \n",
            "\u001b[?25hRequirement already satisfied: opt-einsum>=2.3.2 in /usr/local/lib/python3.6/dist-packages (from tensorflow==2.0) (3.1.0)\n",
            "Requirement already satisfied: absl-py>=0.7.0 in /usr/local/lib/python3.6/dist-packages (from tensorflow==2.0) (0.9.0)\n",
            "Collecting tensorboard<2.1.0,>=2.0.0\n",
            "\u001b[?25l  Downloading https://files.pythonhosted.org/packages/76/54/99b9d5d52d5cb732f099baaaf7740403e83fe6b0cedde940fabd2b13d75a/tensorboard-2.0.2-py3-none-any.whl (3.8MB)\n",
            "\u001b[K     |████████████████████████████████| 3.8MB 45.5MB/s \n",
            "\u001b[?25hRequirement already satisfied: keras-applications>=1.0.8 in /usr/local/lib/python3.6/dist-packages (from tensorflow==2.0) (1.0.8)\n",
            "Requirement already satisfied: google-pasta>=0.1.6 in /usr/local/lib/python3.6/dist-packages (from tensorflow==2.0) (0.1.8)\n",
            "Requirement already satisfied: wheel>=0.26 in /usr/local/lib/python3.6/dist-packages (from tensorflow==2.0) (0.33.6)\n",
            "Requirement already satisfied: grpcio>=1.8.6 in /usr/local/lib/python3.6/dist-packages (from tensorflow==2.0) (1.15.0)\n",
            "Requirement already satisfied: keras-preprocessing>=1.0.5 in /usr/local/lib/python3.6/dist-packages (from tensorflow==2.0) (1.1.0)\n",
            "Requirement already satisfied: numpy<2.0,>=1.16.0 in /usr/local/lib/python3.6/dist-packages (from tensorflow==2.0) (1.17.5)\n",
            "Requirement already satisfied: h5py in /usr/local/lib/python3.6/dist-packages (from keras==2.3.1) (2.8.0)\n",
            "Requirement already satisfied: scipy>=0.14 in /usr/local/lib/python3.6/dist-packages (from keras==2.3.1) (1.4.1)\n",
            "Requirement already satisfied: pyyaml in /usr/local/lib/python3.6/dist-packages (from keras==2.3.1) (3.13)\n",
            "Requirement already satisfied: setuptools in /usr/local/lib/python3.6/dist-packages (from protobuf>=3.6.1->tensorflow==2.0) (42.0.2)\n",
            "Requirement already satisfied: google-auth-oauthlib<0.5,>=0.4.1 in /usr/local/lib/python3.6/dist-packages (from tensorboard<2.1.0,>=2.0.0->tensorflow==2.0) (0.4.1)\n",
            "Requirement already satisfied: werkzeug>=0.11.15 in /usr/local/lib/python3.6/dist-packages (from tensorboard<2.1.0,>=2.0.0->tensorflow==2.0) (0.16.0)\n",
            "Collecting google-auth<2,>=1.6.3\n",
            "\u001b[?25l  Downloading https://files.pythonhosted.org/packages/8d/5f/a1a02695b96d0e09c38abf7d1576b137979cea3d060d60891622cf61276d/google_auth-1.10.1-py2.py3-none-any.whl (76kB)\n",
            "\u001b[K     |████████████████████████████████| 81kB 12.9MB/s \n",
            "\u001b[?25hRequirement already satisfied: requests<3,>=2.21.0 in /usr/local/lib/python3.6/dist-packages (from tensorboard<2.1.0,>=2.0.0->tensorflow==2.0) (2.21.0)\n",
            "Requirement already satisfied: markdown>=2.6.8 in /usr/local/lib/python3.6/dist-packages (from tensorboard<2.1.0,>=2.0.0->tensorflow==2.0) (3.1.1)\n",
            "Requirement already satisfied: requests-oauthlib>=0.7.0 in /usr/local/lib/python3.6/dist-packages (from google-auth-oauthlib<0.5,>=0.4.1->tensorboard<2.1.0,>=2.0.0->tensorflow==2.0) (1.3.0)\n",
            "Requirement already satisfied: pyasn1-modules>=0.2.1 in /usr/local/lib/python3.6/dist-packages (from google-auth<2,>=1.6.3->tensorboard<2.1.0,>=2.0.0->tensorflow==2.0) (0.2.7)\n",
            "Requirement already satisfied: cachetools<5.0,>=2.0.0 in /usr/local/lib/python3.6/dist-packages (from google-auth<2,>=1.6.3->tensorboard<2.1.0,>=2.0.0->tensorflow==2.0) (4.0.0)\n",
            "Requirement already satisfied: rsa<4.1,>=3.1.4 in /usr/local/lib/python3.6/dist-packages (from google-auth<2,>=1.6.3->tensorboard<2.1.0,>=2.0.0->tensorflow==2.0) (4.0)\n",
            "Requirement already satisfied: urllib3<1.25,>=1.21.1 in /usr/local/lib/python3.6/dist-packages (from requests<3,>=2.21.0->tensorboard<2.1.0,>=2.0.0->tensorflow==2.0) (1.24.3)\n",
            "Requirement already satisfied: idna<2.9,>=2.5 in /usr/local/lib/python3.6/dist-packages (from requests<3,>=2.21.0->tensorboard<2.1.0,>=2.0.0->tensorflow==2.0) (2.8)\n",
            "Requirement already satisfied: certifi>=2017.4.17 in /usr/local/lib/python3.6/dist-packages (from requests<3,>=2.21.0->tensorboard<2.1.0,>=2.0.0->tensorflow==2.0) (2019.11.28)\n",
            "Requirement already satisfied: chardet<3.1.0,>=3.0.2 in /usr/local/lib/python3.6/dist-packages (from requests<3,>=2.21.0->tensorboard<2.1.0,>=2.0.0->tensorflow==2.0) (3.0.4)\n",
            "Requirement already satisfied: oauthlib>=3.0.0 in /usr/local/lib/python3.6/dist-packages (from requests-oauthlib>=0.7.0->google-auth-oauthlib<0.5,>=0.4.1->tensorboard<2.1.0,>=2.0.0->tensorflow==2.0) (3.1.0)\n",
            "Requirement already satisfied: pyasn1<0.5.0,>=0.4.6 in /usr/local/lib/python3.6/dist-packages (from pyasn1-modules>=0.2.1->google-auth<2,>=1.6.3->tensorboard<2.1.0,>=2.0.0->tensorflow==2.0) (0.4.8)\n",
            "\u001b[31mERROR: tensorboard 2.0.2 has requirement grpcio>=1.24.3, but you'll have grpcio 1.15.0 which is incompatible.\u001b[0m\n",
            "\u001b[31mERROR: google-colab 1.0.0 has requirement google-auth~=1.4.0, but you'll have google-auth 1.10.1 which is incompatible.\u001b[0m\n",
            "Installing collected packages: tensorflow-estimator, google-auth, tensorboard, tensorflow, keras\n",
            "  Found existing installation: tensorflow-estimator 1.15.1\n",
            "    Uninstalling tensorflow-estimator-1.15.1:\n",
            "      Successfully uninstalled tensorflow-estimator-1.15.1\n",
            "  Found existing installation: google-auth 1.4.2\n",
            "    Uninstalling google-auth-1.4.2:\n",
            "      Successfully uninstalled google-auth-1.4.2\n",
            "  Found existing installation: tensorboard 1.15.0\n",
            "    Uninstalling tensorboard-1.15.0:\n",
            "      Successfully uninstalled tensorboard-1.15.0\n",
            "  Found existing installation: tensorflow 1.15.0\n",
            "    Uninstalling tensorflow-1.15.0:\n",
            "      Successfully uninstalled tensorflow-1.15.0\n",
            "  Found existing installation: Keras 2.2.5\n",
            "    Uninstalling Keras-2.2.5:\n",
            "      Successfully uninstalled Keras-2.2.5\n",
            "Successfully installed google-auth-1.10.1 keras-2.3.1 tensorboard-2.0.2 tensorflow-2.0.0 tensorflow-estimator-2.0.1\n"
          ],
          "name": "stdout"
        },
        {
          "output_type": "display_data",
          "data": {
            "application/vnd.colab-display-data+json": {
              "pip_warning": {
                "packages": [
                  "google"
                ]
              }
            }
          },
          "metadata": {
            "tags": []
          }
        },
        {
          "output_type": "stream",
          "text": [
            "Collecting matplotlib\n",
            "\u001b[?25l  Downloading https://files.pythonhosted.org/packages/68/8a/1996ec27eb368ff66e75e4c8d8af0cd843ab1ba3c1b64c3c4949e0a518b1/matplotlib-3.2.0rc1-cp36-cp36m-manylinux1_x86_64.whl (12.4MB)\n",
            "\u001b[K     |████████████████████████████████| 12.4MB 249kB/s \n",
            "\u001b[?25hRequirement already satisfied, skipping upgrade: cycler>=0.10 in /usr/local/lib/python3.6/dist-packages (from matplotlib) (0.10.0)\n",
            "Requirement already satisfied, skipping upgrade: kiwisolver>=1.0.1 in /usr/local/lib/python3.6/dist-packages (from matplotlib) (1.1.0)\n",
            "Requirement already satisfied, skipping upgrade: python-dateutil>=2.1 in /usr/local/lib/python3.6/dist-packages (from matplotlib) (2.6.1)\n",
            "Requirement already satisfied, skipping upgrade: numpy>=1.11 in /usr/local/lib/python3.6/dist-packages (from matplotlib) (1.17.5)\n",
            "Requirement already satisfied, skipping upgrade: pyparsing!=2.0.4,!=2.1.2,!=2.1.6,>=2.0.1 in /usr/local/lib/python3.6/dist-packages (from matplotlib) (2.4.6)\n",
            "Requirement already satisfied, skipping upgrade: six in /usr/local/lib/python3.6/dist-packages (from cycler>=0.10->matplotlib) (1.12.0)\n",
            "Requirement already satisfied, skipping upgrade: setuptools in /usr/local/lib/python3.6/dist-packages (from kiwisolver>=1.0.1->matplotlib) (42.0.2)\n",
            "\u001b[31mERROR: albumentations 0.1.12 has requirement imgaug<0.2.7,>=0.2.5, but you'll have imgaug 0.2.9 which is incompatible.\u001b[0m\n",
            "Installing collected packages: matplotlib\n",
            "  Found existing installation: matplotlib 3.1.2\n",
            "    Uninstalling matplotlib-3.1.2:\n",
            "      Successfully uninstalled matplotlib-3.1.2\n",
            "Successfully installed matplotlib-3.2.0rc1\n"
          ],
          "name": "stdout"
        },
        {
          "output_type": "display_data",
          "data": {
            "application/vnd.colab-display-data+json": {
              "pip_warning": {
                "packages": [
                  "matplotlib",
                  "mpl_toolkits"
                ]
              }
            }
          },
          "metadata": {
            "tags": []
          }
        },
        {
          "output_type": "stream",
          "text": [
            "Requirement already satisfied: nltk in /usr/local/lib/python3.6/dist-packages (3.2.5)\n",
            "Requirement already satisfied: six in /usr/local/lib/python3.6/dist-packages (from nltk) (1.12.0)\n",
            "[nltk_data] Downloading package punkt to /root/nltk_data...\n",
            "[nltk_data]   Unzipping tokenizers/punkt.zip.\n",
            "[nltk_data] Downloading package stopwords to /root/nltk_data...\n",
            "[nltk_data]   Unzipping corpora/stopwords.zip.\n"
          ],
          "name": "stdout"
        },
        {
          "output_type": "execute_result",
          "data": {
            "text/plain": [
              "True"
            ]
          },
          "metadata": {
            "tags": []
          },
          "execution_count": 2
        }
      ]
    },
    {
      "cell_type": "code",
      "metadata": {
        "id": "bHRFUwNy7HAs",
        "colab_type": "code",
        "outputId": "337775fe-b511-406a-c1f5-f19377549d22",
        "colab": {
          "base_uri": "https://localhost:8080/",
          "height": 34
        }
      },
      "source": [
        "%cd drive/My\\ Drive/AML/aml-project"
      ],
      "execution_count": 1,
      "outputs": [
        {
          "output_type": "stream",
          "text": [
            "/content/drive/My Drive/AML/aml-project\n"
          ],
          "name": "stdout"
        }
      ]
    },
    {
      "cell_type": "code",
      "metadata": {
        "id": "B1BogtUXQmzw",
        "colab_type": "code",
        "outputId": "31ca9995-d37a-4106-8506-3d46026ca4ec",
        "colab": {
          "base_uri": "https://localhost:8080/",
          "height": 102
        }
      },
      "source": [
        "!git pull\n",
        "!sudo apt install google-drive-ocamlfuse\n",
        "!google-drive-ocamlfuse -cc"
      ],
      "execution_count": 0,
      "outputs": [
        {
          "output_type": "stream",
          "text": [
            "Reading package lists... Done\n",
            "Building dependency tree       \n",
            "Reading state information... Done\n",
            "E: Unable to locate package google-drive-ocamlfuse\n",
            "/bin/bash: google-drive-ocamlfuse: command not found\n"
          ],
          "name": "stdout"
        }
      ]
    },
    {
      "cell_type": "markdown",
      "metadata": {
        "id": "oXMMDvN__MAX",
        "colab_type": "text"
      },
      "source": [
        "# Redifine \\_firstRun method of the class GPGO to allow custom initial configuration"
      ]
    },
    {
      "cell_type": "code",
      "metadata": {
        "id": "5TV2zPoy_Zei",
        "colab_type": "code",
        "colab": {}
      },
      "source": [
        "def myFirstRun(self, init_rand_configs=None, n_eval=3):\n",
        "    \"\"\"\n",
        "    Performs initial evaluations before fitting GP.\n",
        "\n",
        "    Parameters\n",
        "    ----------\n",
        "    init_rand_configs: list\n",
        "        Initial random configurations\n",
        "    n_eval: int\n",
        "        Number of initial evaluations to perform. Default is 3.\n",
        "\n",
        "    \"\"\"\n",
        "    if init_rand_configs is None:\n",
        "      self.X = np.empty((n_eval, len(self.parameter_key)))\n",
        "      self.y = np.empty((n_eval,))\n",
        "      for i in range(n_eval):\n",
        "          s_param = self._sampleParam()\n",
        "          s_param_val = list(s_param.values())\n",
        "          self.X[i] = s_param_val\n",
        "          self.y[i] = self.f(**s_param)\n",
        "    else:\n",
        "      self.X = np.empty((len(init_rand_configs),len(init_rand_configs[0])))\n",
        "      self.y = np.empty((len(init_rand_configs),))\n",
        "      self.init_evals = len(self.y)\n",
        "      for i in range(len(init_rand_configs)):\n",
        "        self.X[i] = list(init_rand_configs[i].values())\n",
        "        self.y[i] = self.f(**init_rand_configs[i])\n",
        "    self.GP.fit(self.X, self.y)\n",
        "    self.tau = np.max(self.y)\n",
        "    if init_rand_configs is None: \n",
        "      self.history.append([init_rand_configs[np.argmax(self.y)], self.tau])\n",
        "    else:\n",
        "      idx_max_param = np.argmax(self.y)\n",
        "      self.history.append([{key: self.X[idx_max_param, idx] for idx, key in enumerate(self.parameter_key)}, self.GP.y[-1], self.tau])"
      ],
      "execution_count": 0,
      "outputs": []
    },
    {
      "cell_type": "markdown",
      "metadata": {
        "id": "-aN-qgZBBIDt",
        "colab_type": "text"
      },
      "source": [
        "# Override updateGP method of the class GPGO to allow saves also for the acquired points"
      ]
    },
    {
      "cell_type": "code",
      "metadata": {
        "id": "e_-AC8GYBc_b",
        "colab_type": "code",
        "colab": {}
      },
      "source": [
        "def myUpdateGP(self):\n",
        "  \"\"\"\n",
        "  Updates the internal model with the next acquired point and its evaluation.\n",
        "  \"\"\"\n",
        "  kw = {param: int(self.best[i]) if self.parameter_type[i] == 'int' else float(self.best[i])\n",
        "        for i, param in enumerate(self.parameter_key)}\n",
        "  f_new = self.f(**kw)\n",
        "  self.GP.update(np.atleast_2d(self.best), np.atleast_1d(f_new))\n",
        "  self.tau = np.max(self.GP.y)\n",
        "  self.history.append([kw, self.GP.y[-1], self.tau])"
      ],
      "execution_count": 0,
      "outputs": []
    },
    {
      "cell_type": "markdown",
      "metadata": {
        "id": "eBYJ4uESfIzs",
        "colab_type": "text"
      },
      "source": [
        "# AUTOML"
      ]
    },
    {
      "cell_type": "markdown",
      "metadata": {
        "id": "I2oYA-I4fMzH",
        "colab_type": "text"
      },
      "source": [
        "AUTOml for our model"
      ]
    },
    {
      "cell_type": "markdown",
      "metadata": {
        "id": "UcIHNvUD4txd",
        "colab_type": "text"
      },
      "source": [
        "### Generate random initial configuration"
      ]
    },
    {
      "cell_type": "code",
      "metadata": {
        "id": "XG3KLu5n45Ww",
        "colab_type": "code",
        "outputId": "a18654c7-da71-4584-d9a3-079b3abfc8d9",
        "colab": {
          "base_uri": "https://localhost:8080/",
          "height": 104
        }
      },
      "source": [
        "from pyDOE import lhs\n",
        "from scipy.stats.distributions import uniform\n",
        "\n",
        "# initial (intelligent) random configurations\n",
        "configs = lhs(6, samples=5)\n",
        "# Hyparameters to start from: (not using pretrained embedding)\n",
        "# [lr, embedding_dim, rnn_units, convs_depth, convs_filter_dim, denses_depth]\n",
        "locs = [0.0001, 100, 100, 1, 2, 1]\n",
        "scales = [1, 250, 250, 3, 4, 3]\n",
        "init_rand_configs = []\n",
        "for i in range(len(locs)):\n",
        "  configs[:, i] = uniform(loc=locs[i], scale=scales[i]-locs[i]).ppf(configs[:, i])\n",
        "init_rand_configs = [{'lr': config[0], 'momentum': config[1]} for config in configs]\n",
        "init_rand_configs"
      ],
      "execution_count": 4,
      "outputs": [
        {
          "output_type": "execute_result",
          "data": {
            "text/plain": [
              "[{'lr': 0.7551035218827086, 'momentum': 182.38600287111464},\n",
              " {'lr': 0.25384699881636946, 'momentum': 239.20243647064146},\n",
              " {'lr': 0.8076305760750732, 'momentum': 133.54085349939177},\n",
              " {'lr': 0.4732500451355267, 'momentum': 121.5007119491923},\n",
              " {'lr': 0.14429466568101218, 'momentum': 216.02628592634323}]"
            ]
          },
          "metadata": {
            "tags": []
          },
          "execution_count": 4
        }
      ]
    },
    {
      "cell_type": "markdown",
      "metadata": {
        "id": "FNpGfVq1oNJg",
        "colab_type": "text"
      },
      "source": [
        "### Define fitness function"
      ]
    },
    {
      "cell_type": "code",
      "metadata": {
        "id": "t2y5o-wbVSQE",
        "colab_type": "code",
        "outputId": "8226c5aa-6957-4610-8c88-03202694169c",
        "colab": {
          "base_uri": "https://localhost:8080/",
          "height": 34
        }
      },
      "source": [
        "import keras.optimizers\n",
        "from dataset import get_data, get_wdc_data\n",
        "from fitness import fit\n",
        "import utils\n",
        "import json\n",
        "from utils import get_pretrained_embedding"
      ],
      "execution_count": 5,
      "outputs": [
        {
          "output_type": "stream",
          "text": [
            "Using TensorFlow backend.\n"
          ],
          "name": "stderr"
        }
      ]
    },
    {
      "cell_type": "code",
      "metadata": {
        "id": "vASeVRiAVqcR",
        "colab_type": "code",
        "colab": {}
      },
      "source": [
        "config = {\n",
        "    'train_path' : './dataset/computers/train/computers_splitted_train_medium.json',\n",
        "    'valid_path' : './dataset/computers/valid/computers_splitted_valid_medium.json',\n",
        "    'test_path' : \"./dataset/computers/test/computers_gs.json\",\n",
        "    'EXP_DIR' : 'data/exps/exp15',\n",
        "    'PRETRAINED_EMBEDDING_PATH' : 'dataset/embeddings/w2v/w2v_title_1MinCount_5ContextWindow_100d.txt',\n",
        "    'NUM_WORDS' : None,\n",
        "    'MAX_LEN': 20,\n",
        "    'BATCH_SIZE' : 64,\n",
        "    'EMBEDDING_DIM' : 100,\n",
        "    'RNN_UNITS' : 150,\n",
        "    'EARLY_STOPPING' : 10,\n",
        "    'CONVS_DEPTH' : [1],\n",
        "    'DENSES_DEPTH' : [16],\n",
        "    'EPOCHS' : 30,\n",
        "    'TRAINABLE':True\n",
        "}"
      ],
      "execution_count": 0,
      "outputs": []
    },
    {
      "cell_type": "code",
      "metadata": {
        "id": "XuSxLSJvoQrR",
        "colab_type": "code",
        "colab": {}
      },
      "source": [
        "def get_fitness_for_automl(config):\n",
        "  train_gen, val_gen, test_gen, class_weights = get_wdc_data(\n",
        "            config['train_path'],\n",
        "            config['valid_path'],\n",
        "            config['test_path'],\n",
        "            word_index_path=\"dataset/title_word_index.json\",\n",
        "            num_words=config['NUM_WORDS'],\n",
        "            max_len=config['MAX_LEN'],\n",
        "            batch_size=config['BATCH_SIZE'],\n",
        "            preprocess_data=True,\n",
        "            preprocess_method=\"nltk\",\n",
        "        )\n",
        "  word_index = json.loads(open(\"dataset/title_word_index.json\").read())\n",
        "  NUM_WORDS = len(word_index) if config['NUM_WORDS'] is None else NUM_WORDS\n",
        "  print(\"* NUM WORDS: \", NUM_WORDS)\n",
        "  print(\"* CLASS WEIGHTS:\", class_weights)\n",
        "\n",
        "  embedding_matrix = None\n",
        "  if config['PRETRAINED_EMBEDDING_PATH'] is not None:\n",
        "      embedding_matrix = get_pretrained_embedding(\n",
        "          config['PRETRAINED_EMBEDDING_PATH'], NUM_WORDS + 1, \n",
        "          config['EMBEDDING_DIM'], word_index\n",
        "      )\n",
        "\n",
        "  def fitness(\n",
        "      lr=0.001,\n",
        "      embedding_dim=150,\n",
        "      convs_depth=1, \n",
        "      denses_depth=1, \n",
        "      embedding_dropout=0.3, \n",
        "      rnn_units=100,\n",
        "      rnn_dropout=0.3, \n",
        "      convs_filter_banks=4,\n",
        "      convs_kernel_size=2,\n",
        "      pool_size=2,\n",
        "      denses_units=16,\n",
        "      mlp_dropout=0.3,  \n",
        "      optimizer_type='adam', \n",
        "      similarity_type='cosine_similarity'):\n",
        "    \n",
        "    optimizer = getattr(keras.optimizers, optimizer_type)(lr=lr)\n",
        "    matrix_similarity_function = getattr(utils, similarity_type)\n",
        "    model, results = fit(\n",
        "        train_gen,\n",
        "        val_gen,\n",
        "        NUM_WORDS,\n",
        "        config['EMBEDDING_DIM'],\n",
        "        config['MAX_LEN'],\n",
        "        matrix_similarity_function,\n",
        "        config['EXP_DIR'],\n",
        "        config['EARLY_STOPPING'],\n",
        "        convs_depth=1,\n",
        "        denses_depth=1,\n",
        "        activation=\"sigmoid\",\n",
        "        embedding_matrix=embedding_matrix,\n",
        "        embedding_trainable=config['TRAINABLE'],\n",
        "        embedding_dropout=embedding_dropout,\n",
        "        rnn_type=\"LSTM\",\n",
        "        rnn_units=rnn_units,\n",
        "        rnn_dropout=rnn_dropout,\n",
        "        convs_filter_banks=convs_filter_banks,\n",
        "        convs_kernel_size=convs_kernel_size,\n",
        "        pool_size=pool_size,\n",
        "        denses_units=denses_units,\n",
        "        mlp_dropout=mlp_dropout,\n",
        "        epochs=config['EPOCHS'],\n",
        "        verbosity=1,\n",
        "        callbacks=False,\n",
        "        class_weights=None,\n",
        "        optimizer=None\n",
        "    )\n",
        "    return results[3]\n",
        "  return fitness"
      ],
      "execution_count": 0,
      "outputs": []
    },
    {
      "cell_type": "markdown",
      "metadata": {
        "id": "v32zSJjWsQ11",
        "colab_type": "text"
      },
      "source": [
        "### ExpectedImprovement"
      ]
    },
    {
      "cell_type": "code",
      "metadata": {
        "colab_type": "code",
        "id": "agq_vCFLYZ_8",
        "outputId": "0980bc39-27f0-443e-a004-addfbe096fe3",
        "colab": {
          "base_uri": "https://localhost:8080/",
          "height": 1000
        }
      },
      "source": [
        "import numpy as np\n",
        "import functools\n",
        "\n",
        "from pyGPGO.covfunc import squaredExponential\n",
        "from pyGPGO.surrogates.GaussianProcess import GaussianProcess\n",
        "from pyGPGO.GPGO import GPGO\n",
        "from pyGPGO.acquisition import Acquisition\n",
        "\n",
        "from sklearn import datasets\n",
        "from sklearn import svm\n",
        "from sklearn.model_selection import cross_val_score\n",
        "\n",
        "import matplotlib.pyplot as plt\n",
        "from mpl_toolkits.mplot3d import Axes3D \n",
        "from pylab import meshgrid,cm,imshow,contour,clabel,colorbar,axis,title,show\n",
        "    \n",
        "furtherEvaluations = 10\n",
        "# param = {'lr': ('cont', [0.01,0.1]),'momentum': ('cont', [0.1,0.9])} \n",
        " \n",
        "param = {\n",
        "    'lr': ('cont', [0.00001, 1.0]),\n",
        "    'rnn_units': ('int', [100, 250]),\n",
        "    'convs_filter_banks': ('int', [2, 16]),\n",
        "    'convs_kernel_size': ('int', [2, 4]),\n",
        "    'pool_size': ('int', [2, 4]),\n",
        "    'denses_units': ('int', [16, 32]),\n",
        "} \n",
        "\n",
        "init_rand_configs = [{\n",
        "    'lr':0.0001, \n",
        "    'embedding_dim': 150,\n",
        "    'rnn_units':150,\n",
        "    'convs_filter_banks':4,\n",
        "    'convs_kernel_size':2,\n",
        "    'pool_size':2,\n",
        "    'denses_units':32,\n",
        "}] \n",
        "\n",
        "# creating a GP surrogate model with a Squared Exponantial covariance function,\n",
        "# aka kernel\n",
        "sexp = squaredExponential()\n",
        "sur_model = GaussianProcess(sexp)\n",
        "fitness = get_fitness_for_automl(config)\n",
        "# setting the acquisition function\n",
        "acq = Acquisition(mode=\"ExpectedImprovement\")\n",
        "\n",
        "# creating an object Bayesian Optimization\n",
        "bo_step1_expected = GPGO(sur_model,acq,fitness,param,n_jobs=1)\n",
        "bo_step1_expected._firstRun = functools.partial(myFirstRun, bo_step1_expected)\n",
        "bo_step1_expected.updateGP = functools.partial(myUpdateGP, bo_step1_expected)\n",
        "bo_step1_expected._firstRun(init_rand_configs=init_rand_configs)\n",
        "bo_step1_expected.logger._printInit(bo_step1_expected)"
      ],
      "execution_count": 0,
      "outputs": [
        {
          "output_type": "stream",
          "text": [
            "* PREPROCESS DATA\n",
            "* DONE\n",
            "* FOUND 4362 unique vocabs\n",
            "* PREPROCESS DATA\n",
            "* DONE\n",
            "* FOUND 3444 unique vocabs\n",
            "* PREPROCESS DATA\n",
            "* DONE\n",
            "* FOUND 2791 unique vocabs\n",
            "* NUM WORDS:  4764\n",
            "* CLASS WEIGHTS: [0.63919052 2.29609929]\n",
            "* LOADING EMBEDDINGS MATRIX\n",
            "* FOUND 4764 WORD VECTORS\n",
            "* FOUND 4764 vector representations out of 4765 words\n",
            "Evaluation \t Proposed point \t  Current eval. \t Best eval.\n",
            "Model: \"model_1\"\n",
            "__________________________________________________________________________________________________\n",
            "Layer (type)                    Output Shape         Param #     Connected to                     \n",
            "==================================================================================================\n",
            "input_1 (InputLayer)            (None, 20)           0                                            \n",
            "__________________________________________________________________________________________________\n",
            "input_2 (InputLayer)            (None, 20)           0                                            \n",
            "__________________________________________________________________________________________________\n",
            "embedding_1 (Embedding)         (None, 20, 100)      476500      input_1[0][0]                    \n",
            "                                                                 input_2[0][0]                    \n",
            "__________________________________________________________________________________________________\n",
            "dropout_1 (Dropout)             (None, 20, 100)      0           embedding_1[0][0]                \n",
            "__________________________________________________________________________________________________\n",
            "dropout_2 (Dropout)             (None, 20, 100)      0           embedding_1[1][0]                \n",
            "__________________________________________________________________________________________________\n",
            "bidirectional_1 (Bidirectional) (None, 20, 300)      301200      dropout_1[0][0]                  \n",
            "__________________________________________________________________________________________________\n",
            "bidirectional_2 (Bidirectional) (None, 20, 300)      301200      dropout_2[0][0]                  \n",
            "__________________________________________________________________________________________________\n",
            "lambda_1 (Lambda)               (None, 20, 20, 1)    0           bidirectional_1[0][0]            \n",
            "                                                                 bidirectional_2[0][0]            \n",
            "__________________________________________________________________________________________________\n",
            "conv2d_1 (Conv2D)               (None, 19, 19, 4)    20          lambda_1[0][0]                   \n",
            "__________________________________________________________________________________________________\n",
            "max_pooling2d_1 (MaxPooling2D)  (None, 9, 9, 4)      0           conv2d_1[0][0]                   \n",
            "__________________________________________________________________________________________________\n",
            "flatten_1 (Flatten)             (None, 324)          0           max_pooling2d_1[0][0]            \n",
            "__________________________________________________________________________________________________\n",
            "lambda_2 (Lambda)               (None, 324)          0           flatten_1[0][0]                  \n",
            "__________________________________________________________________________________________________\n",
            "dense_1 (Dense)                 (None, 32)           10400       lambda_2[0][0]                   \n",
            "__________________________________________________________________________________________________\n",
            "dense_2 (Dense)                 (None, 1)            33          dense_1[0][0]                    \n",
            "==================================================================================================\n",
            "Total params: 1,089,353\n",
            "Trainable params: 1,089,353\n",
            "Non-trainable params: 0\n",
            "__________________________________________________________________________________________________\n",
            "* TRAINING\n"
          ],
          "name": "stdout"
        },
        {
          "output_type": "stream",
          "text": [
            "/usr/local/lib/python3.6/dist-packages/tensorflow_core/python/framework/indexed_slices.py:424: UserWarning: Converting sparse IndexedSlices to a dense Tensor of unknown shape. This may consume a large amount of memory.\n",
            "  \"Converting sparse IndexedSlices to a dense Tensor of unknown shape. \"\n"
          ],
          "name": "stderr"
        },
        {
          "output_type": "stream",
          "text": [
            "Epoch 1/30\n",
            "101/101 [==============================] - 29s 285ms/step - loss: 0.6399 - accuracy: 0.7652 - val_loss: 0.5756 - val_accuracy: 0.7825\n",
            "Epoch 2/30\n",
            "101/101 [==============================] - 25s 252ms/step - loss: 0.5284 - accuracy: 0.7822 - val_loss: 0.5676 - val_accuracy: 0.7825\n",
            "Epoch 3/30\n",
            "101/101 [==============================] - 26s 255ms/step - loss: 0.5243 - accuracy: 0.7822 - val_loss: 0.5642 - val_accuracy: 0.7825\n",
            "Epoch 4/30\n",
            "101/101 [==============================] - 26s 253ms/step - loss: 0.5239 - accuracy: 0.7823 - val_loss: 0.5687 - val_accuracy: 0.7825\n",
            "Epoch 5/30\n",
            "101/101 [==============================] - 26s 256ms/step - loss: 0.5232 - accuracy: 0.7825 - val_loss: 0.5660 - val_accuracy: 0.7825\n",
            "Epoch 6/30\n",
            "101/101 [==============================] - 26s 257ms/step - loss: 0.5237 - accuracy: 0.7820 - val_loss: 0.5656 - val_accuracy: 0.7825\n",
            "Epoch 7/30\n",
            "101/101 [==============================] - 26s 258ms/step - loss: 0.5227 - accuracy: 0.7823 - val_loss: 0.5627 - val_accuracy: 0.7825\n",
            "Epoch 8/30\n",
            "101/101 [==============================] - 26s 257ms/step - loss: 0.5217 - accuracy: 0.7826 - val_loss: 0.5626 - val_accuracy: 0.7825\n",
            "Epoch 9/30\n",
            "101/101 [==============================] - 26s 255ms/step - loss: 0.5211 - accuracy: 0.7819 - val_loss: 0.5644 - val_accuracy: 0.7825\n",
            "Epoch 10/30\n",
            "101/101 [==============================] - 26s 260ms/step - loss: 0.5180 - accuracy: 0.7820 - val_loss: 0.5666 - val_accuracy: 0.7825\n",
            "Epoch 11/30\n",
            "101/101 [==============================] - 26s 254ms/step - loss: 0.5122 - accuracy: 0.7820 - val_loss: 0.5754 - val_accuracy: 0.7825\n",
            "Epoch 12/30\n",
            "101/101 [==============================] - 26s 253ms/step - loss: 0.4966 - accuracy: 0.7833 - val_loss: 0.5976 - val_accuracy: 0.7806\n",
            "Epoch 13/30\n",
            "101/101 [==============================] - 26s 254ms/step - loss: 0.4608 - accuracy: 0.8001 - val_loss: 0.6208 - val_accuracy: 0.7694\n",
            "Epoch 14/30\n",
            "101/101 [==============================] - 26s 253ms/step - loss: 0.4297 - accuracy: 0.8128 - val_loss: 0.6891 - val_accuracy: 0.6406\n",
            "Epoch 15/30\n",
            "101/101 [==============================] - 26s 254ms/step - loss: 0.4049 - accuracy: 0.8261 - val_loss: 0.7791 - val_accuracy: 0.5400\n",
            "Epoch 16/30\n",
            "101/101 [==============================] - 25s 252ms/step - loss: 0.3797 - accuracy: 0.8351 - val_loss: 0.7610 - val_accuracy: 0.5975\n",
            "Epoch 17/30\n",
            "101/101 [==============================] - 25s 251ms/step - loss: 0.3690 - accuracy: 0.8420 - val_loss: 1.0202 - val_accuracy: 0.4263\n",
            "Epoch 18/30\n",
            "101/101 [==============================] - 25s 252ms/step - loss: 0.3501 - accuracy: 0.8489 - val_loss: 0.8712 - val_accuracy: 0.5294\n",
            "Epoch 19/30\n",
            "101/101 [==============================] - 26s 256ms/step - loss: 0.3369 - accuracy: 0.8577 - val_loss: 1.0210 - val_accuracy: 0.4706\n",
            "Epoch 20/30\n",
            "101/101 [==============================] - 26s 257ms/step - loss: 0.3301 - accuracy: 0.8614 - val_loss: 1.0138 - val_accuracy: 0.4819\n",
            "Epoch 21/30\n",
            "101/101 [==============================] - 26s 255ms/step - loss: 0.3227 - accuracy: 0.8592 - val_loss: 0.9817 - val_accuracy: 0.5088\n",
            "Epoch 22/30\n",
            " 28/101 [=======>......................] - ETA: 17s - loss: 0.3158 - accuracy: 0.8728"
          ],
          "name": "stdout"
        }
      ]
    },
    {
      "cell_type": "code",
      "metadata": {
        "id": "Stz2FeRwVzXU",
        "colab_type": "code",
        "outputId": "28fac4fd-2dca-405c-bde1-b400c6a14d89",
        "colab": {
          "base_uri": "https://localhost:8080/",
          "height": 374
        }
      },
      "source": [
        "bo_step1_expected.run(furtherEvaluations, resume=True)\n",
        "\n",
        "plt.figure(figsize=(12,6))\n",
        "plt.subplot(1, 2, 1)\n",
        "plt.plot([val[1] for val in bo_step1_expected.history], marker=\"o\")\n",
        "plt.subplot(1, 2, 2)\n",
        "plt.plot([val[2] for val in bo_step1_expected.history], marker=\"o\")"
      ],
      "execution_count": 0,
      "outputs": [
        {
          "output_type": "error",
          "ename": "ValueError",
          "evalue": "ignored",
          "traceback": [
            "\u001b[0;31m---------------------------------------------------------------------------\u001b[0m",
            "\u001b[0;31mValueError\u001b[0m                                Traceback (most recent call last)",
            "\u001b[0;32m<ipython-input-19-435b836e7007>\u001b[0m in \u001b[0;36m<module>\u001b[0;34m()\u001b[0m\n\u001b[0;32m----> 1\u001b[0;31m \u001b[0mbo_step1_expected\u001b[0m\u001b[0;34m.\u001b[0m\u001b[0mrun\u001b[0m\u001b[0;34m(\u001b[0m\u001b[0mfurtherEvaluations\u001b[0m\u001b[0;34m,\u001b[0m \u001b[0mresume\u001b[0m\u001b[0;34m=\u001b[0m\u001b[0;32mTrue\u001b[0m\u001b[0;34m)\u001b[0m\u001b[0;34m\u001b[0m\u001b[0;34m\u001b[0m\u001b[0m\n\u001b[0m\u001b[1;32m      2\u001b[0m \u001b[0;34m\u001b[0m\u001b[0m\n\u001b[1;32m      3\u001b[0m \u001b[0mplt\u001b[0m\u001b[0;34m.\u001b[0m\u001b[0mfigure\u001b[0m\u001b[0;34m(\u001b[0m\u001b[0mfigsize\u001b[0m\u001b[0;34m=\u001b[0m\u001b[0;34m(\u001b[0m\u001b[0;36m12\u001b[0m\u001b[0;34m,\u001b[0m\u001b[0;36m6\u001b[0m\u001b[0;34m)\u001b[0m\u001b[0;34m)\u001b[0m\u001b[0;34m\u001b[0m\u001b[0;34m\u001b[0m\u001b[0m\n\u001b[1;32m      4\u001b[0m \u001b[0mplt\u001b[0m\u001b[0;34m.\u001b[0m\u001b[0msubplot\u001b[0m\u001b[0;34m(\u001b[0m\u001b[0;36m1\u001b[0m\u001b[0;34m,\u001b[0m \u001b[0;36m2\u001b[0m\u001b[0;34m,\u001b[0m \u001b[0;36m1\u001b[0m\u001b[0;34m)\u001b[0m\u001b[0;34m\u001b[0m\u001b[0;34m\u001b[0m\u001b[0m\n\u001b[1;32m      5\u001b[0m \u001b[0mplt\u001b[0m\u001b[0;34m.\u001b[0m\u001b[0mplot\u001b[0m\u001b[0;34m(\u001b[0m\u001b[0;34m[\u001b[0m\u001b[0mval\u001b[0m\u001b[0;34m[\u001b[0m\u001b[0;36m1\u001b[0m\u001b[0;34m]\u001b[0m \u001b[0;32mfor\u001b[0m \u001b[0mval\u001b[0m \u001b[0;32min\u001b[0m \u001b[0mbo_step1_expected\u001b[0m\u001b[0;34m.\u001b[0m\u001b[0mhistory\u001b[0m\u001b[0;34m]\u001b[0m\u001b[0;34m,\u001b[0m \u001b[0mmarker\u001b[0m\u001b[0;34m=\u001b[0m\u001b[0;34m\"o\"\u001b[0m\u001b[0;34m)\u001b[0m\u001b[0;34m\u001b[0m\u001b[0;34m\u001b[0m\u001b[0m\n",
            "\u001b[0;32m/usr/local/lib/python3.6/dist-packages/pyGPGO/GPGO.py\u001b[0m in \u001b[0;36mrun\u001b[0;34m(self, max_iter, init_evals, resume)\u001b[0m\n\u001b[1;32m    189\u001b[0m             \u001b[0mself\u001b[0m\u001b[0;34m.\u001b[0m\u001b[0mlogger\u001b[0m\u001b[0;34m.\u001b[0m\u001b[0m_printInit\u001b[0m\u001b[0;34m(\u001b[0m\u001b[0mself\u001b[0m\u001b[0;34m)\u001b[0m\u001b[0;34m\u001b[0m\u001b[0;34m\u001b[0m\u001b[0m\n\u001b[1;32m    190\u001b[0m         \u001b[0;32mfor\u001b[0m \u001b[0miteration\u001b[0m \u001b[0;32min\u001b[0m \u001b[0mrange\u001b[0m\u001b[0;34m(\u001b[0m\u001b[0mmax_iter\u001b[0m\u001b[0;34m)\u001b[0m\u001b[0;34m:\u001b[0m\u001b[0;34m\u001b[0m\u001b[0;34m\u001b[0m\u001b[0m\n\u001b[0;32m--> 191\u001b[0;31m             \u001b[0mself\u001b[0m\u001b[0;34m.\u001b[0m\u001b[0m_optimizeAcq\u001b[0m\u001b[0;34m(\u001b[0m\u001b[0;34m)\u001b[0m\u001b[0;34m\u001b[0m\u001b[0;34m\u001b[0m\u001b[0m\n\u001b[0m\u001b[1;32m    192\u001b[0m             \u001b[0mself\u001b[0m\u001b[0;34m.\u001b[0m\u001b[0mupdateGP\u001b[0m\u001b[0;34m(\u001b[0m\u001b[0;34m)\u001b[0m\u001b[0;34m\u001b[0m\u001b[0;34m\u001b[0m\u001b[0m\n\u001b[1;32m    193\u001b[0m             \u001b[0mself\u001b[0m\u001b[0;34m.\u001b[0m\u001b[0mlogger\u001b[0m\u001b[0;34m.\u001b[0m\u001b[0m_printCurrent\u001b[0m\u001b[0;34m(\u001b[0m\u001b[0mself\u001b[0m\u001b[0;34m)\u001b[0m\u001b[0;34m\u001b[0m\u001b[0;34m\u001b[0m\u001b[0m\n",
            "\u001b[0;32m/usr/local/lib/python3.6/dist-packages/pyGPGO/GPGO.py\u001b[0m in \u001b[0;36m_optimizeAcq\u001b[0;34m(self, method, n_start)\u001b[0m\n\u001b[1;32m    129\u001b[0m             \u001b[0;32mfor\u001b[0m \u001b[0mindex\u001b[0m\u001b[0;34m,\u001b[0m \u001b[0mstart_point\u001b[0m \u001b[0;32min\u001b[0m \u001b[0menumerate\u001b[0m\u001b[0;34m(\u001b[0m\u001b[0mstart_points_arr\u001b[0m\u001b[0;34m)\u001b[0m\u001b[0;34m:\u001b[0m\u001b[0;34m\u001b[0m\u001b[0;34m\u001b[0m\u001b[0m\n\u001b[1;32m    130\u001b[0m                 res = minimize(self._acqWrapper, x0=start_point, method=method,\n\u001b[0;32m--> 131\u001b[0;31m                                bounds=self.parameter_range)\n\u001b[0m\u001b[1;32m    132\u001b[0m                 \u001b[0mx_best\u001b[0m\u001b[0;34m[\u001b[0m\u001b[0mindex\u001b[0m\u001b[0;34m]\u001b[0m\u001b[0;34m,\u001b[0m \u001b[0mf_best\u001b[0m\u001b[0;34m[\u001b[0m\u001b[0mindex\u001b[0m\u001b[0;34m]\u001b[0m \u001b[0;34m=\u001b[0m \u001b[0mres\u001b[0m\u001b[0;34m.\u001b[0m\u001b[0mx\u001b[0m\u001b[0;34m,\u001b[0m \u001b[0mnp\u001b[0m\u001b[0;34m.\u001b[0m\u001b[0matleast_1d\u001b[0m\u001b[0;34m(\u001b[0m\u001b[0mres\u001b[0m\u001b[0;34m.\u001b[0m\u001b[0mfun\u001b[0m\u001b[0;34m)\u001b[0m\u001b[0;34m[\u001b[0m\u001b[0;36m0\u001b[0m\u001b[0;34m]\u001b[0m\u001b[0;34m\u001b[0m\u001b[0;34m\u001b[0m\u001b[0m\n\u001b[1;32m    133\u001b[0m         \u001b[0;32melse\u001b[0m\u001b[0;34m:\u001b[0m\u001b[0;34m\u001b[0m\u001b[0;34m\u001b[0m\u001b[0m\n",
            "\u001b[0;32m/usr/local/lib/python3.6/dist-packages/scipy/optimize/_minimize.py\u001b[0m in \u001b[0;36mminimize\u001b[0;34m(fun, x0, args, method, jac, hess, hessp, bounds, constraints, tol, callback, options)\u001b[0m\n\u001b[1;32m    608\u001b[0m     \u001b[0;32melif\u001b[0m \u001b[0mmeth\u001b[0m \u001b[0;34m==\u001b[0m \u001b[0;34m'l-bfgs-b'\u001b[0m\u001b[0;34m:\u001b[0m\u001b[0;34m\u001b[0m\u001b[0;34m\u001b[0m\u001b[0m\n\u001b[1;32m    609\u001b[0m         return _minimize_lbfgsb(fun, x0, args, jac, bounds,\n\u001b[0;32m--> 610\u001b[0;31m                                 callback=callback, **options)\n\u001b[0m\u001b[1;32m    611\u001b[0m     \u001b[0;32melif\u001b[0m \u001b[0mmeth\u001b[0m \u001b[0;34m==\u001b[0m \u001b[0;34m'tnc'\u001b[0m\u001b[0;34m:\u001b[0m\u001b[0;34m\u001b[0m\u001b[0;34m\u001b[0m\u001b[0m\n\u001b[1;32m    612\u001b[0m         return _minimize_tnc(fun, x0, args, jac, bounds, callback=callback,\n",
            "\u001b[0;32m/usr/local/lib/python3.6/dist-packages/scipy/optimize/lbfgsb.py\u001b[0m in \u001b[0;36m_minimize_lbfgsb\u001b[0;34m(fun, x0, args, jac, bounds, disp, maxcor, ftol, gtol, eps, maxfun, maxiter, iprint, callback, maxls, **unknown_options)\u001b[0m\n\u001b[1;32m    343\u001b[0m             \u001b[0;31m# until the completion of the current minimization iteration.\u001b[0m\u001b[0;34m\u001b[0m\u001b[0;34m\u001b[0m\u001b[0;34m\u001b[0m\u001b[0m\n\u001b[1;32m    344\u001b[0m             \u001b[0;31m# Overwrite f and g:\u001b[0m\u001b[0;34m\u001b[0m\u001b[0;34m\u001b[0m\u001b[0;34m\u001b[0m\u001b[0m\n\u001b[0;32m--> 345\u001b[0;31m             \u001b[0mf\u001b[0m\u001b[0;34m,\u001b[0m \u001b[0mg\u001b[0m \u001b[0;34m=\u001b[0m \u001b[0mfunc_and_grad\u001b[0m\u001b[0;34m(\u001b[0m\u001b[0mx\u001b[0m\u001b[0;34m)\u001b[0m\u001b[0;34m\u001b[0m\u001b[0;34m\u001b[0m\u001b[0m\n\u001b[0m\u001b[1;32m    346\u001b[0m         \u001b[0;32melif\u001b[0m \u001b[0mtask_str\u001b[0m\u001b[0;34m.\u001b[0m\u001b[0mstartswith\u001b[0m\u001b[0;34m(\u001b[0m\u001b[0;34mb'NEW_X'\u001b[0m\u001b[0;34m)\u001b[0m\u001b[0;34m:\u001b[0m\u001b[0;34m\u001b[0m\u001b[0;34m\u001b[0m\u001b[0m\n\u001b[1;32m    347\u001b[0m             \u001b[0;31m# new iteration\u001b[0m\u001b[0;34m\u001b[0m\u001b[0;34m\u001b[0m\u001b[0;34m\u001b[0m\u001b[0m\n",
            "\u001b[0;32m/usr/local/lib/python3.6/dist-packages/scipy/optimize/lbfgsb.py\u001b[0m in \u001b[0;36mfunc_and_grad\u001b[0;34m(x)\u001b[0m\n\u001b[1;32m    288\u001b[0m     \u001b[0;32mif\u001b[0m \u001b[0mjac\u001b[0m \u001b[0;32mis\u001b[0m \u001b[0;32mNone\u001b[0m\u001b[0;34m:\u001b[0m\u001b[0;34m\u001b[0m\u001b[0;34m\u001b[0m\u001b[0m\n\u001b[1;32m    289\u001b[0m         \u001b[0;32mdef\u001b[0m \u001b[0mfunc_and_grad\u001b[0m\u001b[0;34m(\u001b[0m\u001b[0mx\u001b[0m\u001b[0;34m)\u001b[0m\u001b[0;34m:\u001b[0m\u001b[0;34m\u001b[0m\u001b[0;34m\u001b[0m\u001b[0m\n\u001b[0;32m--> 290\u001b[0;31m             \u001b[0mf\u001b[0m \u001b[0;34m=\u001b[0m \u001b[0mfun\u001b[0m\u001b[0;34m(\u001b[0m\u001b[0mx\u001b[0m\u001b[0;34m,\u001b[0m \u001b[0;34m*\u001b[0m\u001b[0margs\u001b[0m\u001b[0;34m)\u001b[0m\u001b[0;34m\u001b[0m\u001b[0;34m\u001b[0m\u001b[0m\n\u001b[0m\u001b[1;32m    291\u001b[0m             \u001b[0mg\u001b[0m \u001b[0;34m=\u001b[0m \u001b[0m_approx_fprime_helper\u001b[0m\u001b[0;34m(\u001b[0m\u001b[0mx\u001b[0m\u001b[0;34m,\u001b[0m \u001b[0mfun\u001b[0m\u001b[0;34m,\u001b[0m \u001b[0mepsilon\u001b[0m\u001b[0;34m,\u001b[0m \u001b[0margs\u001b[0m\u001b[0;34m=\u001b[0m\u001b[0margs\u001b[0m\u001b[0;34m,\u001b[0m \u001b[0mf0\u001b[0m\u001b[0;34m=\u001b[0m\u001b[0mf\u001b[0m\u001b[0;34m)\u001b[0m\u001b[0;34m\u001b[0m\u001b[0;34m\u001b[0m\u001b[0m\n\u001b[1;32m    292\u001b[0m             \u001b[0;32mreturn\u001b[0m \u001b[0mf\u001b[0m\u001b[0;34m,\u001b[0m \u001b[0mg\u001b[0m\u001b[0;34m\u001b[0m\u001b[0;34m\u001b[0m\u001b[0m\n",
            "\u001b[0;32m/usr/local/lib/python3.6/dist-packages/scipy/optimize/optimize.py\u001b[0m in \u001b[0;36mfunction_wrapper\u001b[0;34m(*wrapper_args)\u001b[0m\n\u001b[1;32m    325\u001b[0m     \u001b[0;32mdef\u001b[0m \u001b[0mfunction_wrapper\u001b[0m\u001b[0;34m(\u001b[0m\u001b[0;34m*\u001b[0m\u001b[0mwrapper_args\u001b[0m\u001b[0;34m)\u001b[0m\u001b[0;34m:\u001b[0m\u001b[0;34m\u001b[0m\u001b[0;34m\u001b[0m\u001b[0m\n\u001b[1;32m    326\u001b[0m         \u001b[0mncalls\u001b[0m\u001b[0;34m[\u001b[0m\u001b[0;36m0\u001b[0m\u001b[0;34m]\u001b[0m \u001b[0;34m+=\u001b[0m \u001b[0;36m1\u001b[0m\u001b[0;34m\u001b[0m\u001b[0;34m\u001b[0m\u001b[0m\n\u001b[0;32m--> 327\u001b[0;31m         \u001b[0;32mreturn\u001b[0m \u001b[0mfunction\u001b[0m\u001b[0;34m(\u001b[0m\u001b[0;34m*\u001b[0m\u001b[0;34m(\u001b[0m\u001b[0mwrapper_args\u001b[0m \u001b[0;34m+\u001b[0m \u001b[0margs\u001b[0m\u001b[0;34m)\u001b[0m\u001b[0;34m)\u001b[0m\u001b[0;34m\u001b[0m\u001b[0;34m\u001b[0m\u001b[0m\n\u001b[0m\u001b[1;32m    328\u001b[0m \u001b[0;34m\u001b[0m\u001b[0m\n\u001b[1;32m    329\u001b[0m     \u001b[0;32mreturn\u001b[0m \u001b[0mncalls\u001b[0m\u001b[0;34m,\u001b[0m \u001b[0mfunction_wrapper\u001b[0m\u001b[0;34m\u001b[0m\u001b[0;34m\u001b[0m\u001b[0m\n",
            "\u001b[0;32m/usr/local/lib/python3.6/dist-packages/pyGPGO/GPGO.py\u001b[0m in \u001b[0;36m_acqWrapper\u001b[0;34m(self, xnew)\u001b[0m\n\u001b[1;32m    106\u001b[0m \u001b[0;34m\u001b[0m\u001b[0m\n\u001b[1;32m    107\u001b[0m         \"\"\"\n\u001b[0;32m--> 108\u001b[0;31m         \u001b[0mnew_mean\u001b[0m\u001b[0;34m,\u001b[0m \u001b[0mnew_var\u001b[0m \u001b[0;34m=\u001b[0m \u001b[0mself\u001b[0m\u001b[0;34m.\u001b[0m\u001b[0mGP\u001b[0m\u001b[0;34m.\u001b[0m\u001b[0mpredict\u001b[0m\u001b[0;34m(\u001b[0m\u001b[0mxnew\u001b[0m\u001b[0;34m,\u001b[0m \u001b[0mreturn_std\u001b[0m\u001b[0;34m=\u001b[0m\u001b[0;32mTrue\u001b[0m\u001b[0;34m)\u001b[0m\u001b[0;34m\u001b[0m\u001b[0;34m\u001b[0m\u001b[0m\n\u001b[0m\u001b[1;32m    109\u001b[0m         \u001b[0mnew_std\u001b[0m \u001b[0;34m=\u001b[0m \u001b[0mnp\u001b[0m\u001b[0;34m.\u001b[0m\u001b[0msqrt\u001b[0m\u001b[0;34m(\u001b[0m\u001b[0mnew_var\u001b[0m \u001b[0;34m+\u001b[0m \u001b[0;36m1e-6\u001b[0m\u001b[0;34m)\u001b[0m\u001b[0;34m\u001b[0m\u001b[0;34m\u001b[0m\u001b[0m\n\u001b[1;32m    110\u001b[0m         \u001b[0;32mreturn\u001b[0m \u001b[0;34m-\u001b[0m\u001b[0mself\u001b[0m\u001b[0;34m.\u001b[0m\u001b[0mA\u001b[0m\u001b[0;34m.\u001b[0m\u001b[0meval\u001b[0m\u001b[0;34m(\u001b[0m\u001b[0mself\u001b[0m\u001b[0;34m.\u001b[0m\u001b[0mtau\u001b[0m\u001b[0;34m,\u001b[0m \u001b[0mnew_mean\u001b[0m\u001b[0;34m,\u001b[0m \u001b[0mnew_std\u001b[0m\u001b[0;34m)\u001b[0m\u001b[0;34m\u001b[0m\u001b[0;34m\u001b[0m\u001b[0m\n",
            "\u001b[0;32m/usr/local/lib/python3.6/dist-packages/pyGPGO/surrogates/GaussianProcess.py\u001b[0m in \u001b[0;36mpredict\u001b[0;34m(self, Xstar, return_std)\u001b[0m\n\u001b[1;32m    218\u001b[0m         \"\"\"\n\u001b[1;32m    219\u001b[0m         \u001b[0mXstar\u001b[0m \u001b[0;34m=\u001b[0m \u001b[0mnp\u001b[0m\u001b[0;34m.\u001b[0m\u001b[0matleast_2d\u001b[0m\u001b[0;34m(\u001b[0m\u001b[0mXstar\u001b[0m\u001b[0;34m)\u001b[0m\u001b[0;34m\u001b[0m\u001b[0;34m\u001b[0m\u001b[0m\n\u001b[0;32m--> 220\u001b[0;31m         \u001b[0mkstar\u001b[0m \u001b[0;34m=\u001b[0m \u001b[0mself\u001b[0m\u001b[0;34m.\u001b[0m\u001b[0mcovfunc\u001b[0m\u001b[0;34m.\u001b[0m\u001b[0mK\u001b[0m\u001b[0;34m(\u001b[0m\u001b[0mself\u001b[0m\u001b[0;34m.\u001b[0m\u001b[0mX\u001b[0m\u001b[0;34m,\u001b[0m \u001b[0mXstar\u001b[0m\u001b[0;34m)\u001b[0m\u001b[0;34m.\u001b[0m\u001b[0mT\u001b[0m\u001b[0;34m\u001b[0m\u001b[0;34m\u001b[0m\u001b[0m\n\u001b[0m\u001b[1;32m    221\u001b[0m         \u001b[0mfmean\u001b[0m \u001b[0;34m=\u001b[0m \u001b[0mself\u001b[0m\u001b[0;34m.\u001b[0m\u001b[0mmprior\u001b[0m \u001b[0;34m+\u001b[0m \u001b[0mnp\u001b[0m\u001b[0;34m.\u001b[0m\u001b[0mdot\u001b[0m\u001b[0;34m(\u001b[0m\u001b[0mkstar\u001b[0m\u001b[0;34m,\u001b[0m \u001b[0mself\u001b[0m\u001b[0;34m.\u001b[0m\u001b[0malpha\u001b[0m\u001b[0;34m)\u001b[0m\u001b[0;34m\u001b[0m\u001b[0;34m\u001b[0m\u001b[0m\n\u001b[1;32m    222\u001b[0m         \u001b[0mv\u001b[0m \u001b[0;34m=\u001b[0m \u001b[0msolve\u001b[0m\u001b[0;34m(\u001b[0m\u001b[0mself\u001b[0m\u001b[0;34m.\u001b[0m\u001b[0mL\u001b[0m\u001b[0;34m,\u001b[0m \u001b[0mkstar\u001b[0m\u001b[0;34m.\u001b[0m\u001b[0mT\u001b[0m\u001b[0;34m)\u001b[0m\u001b[0;34m\u001b[0m\u001b[0;34m\u001b[0m\u001b[0m\n",
            "\u001b[0;32m/usr/local/lib/python3.6/dist-packages/pyGPGO/covfunc.py\u001b[0m in \u001b[0;36mK\u001b[0;34m(self, X, Xstar)\u001b[0m\n\u001b[1;32m     99\u001b[0m             \u001b[0mComputed\u001b[0m \u001b[0mcovariance\u001b[0m \u001b[0mmatrix\u001b[0m\u001b[0;34m.\u001b[0m\u001b[0;34m\u001b[0m\u001b[0;34m\u001b[0m\u001b[0m\n\u001b[1;32m    100\u001b[0m         \"\"\"\n\u001b[0;32m--> 101\u001b[0;31m         \u001b[0mr\u001b[0m \u001b[0;34m=\u001b[0m \u001b[0ml2norm_\u001b[0m\u001b[0;34m(\u001b[0m\u001b[0mX\u001b[0m\u001b[0;34m,\u001b[0m \u001b[0mXstar\u001b[0m\u001b[0;34m)\u001b[0m\u001b[0;34m\u001b[0m\u001b[0;34m\u001b[0m\u001b[0m\n\u001b[0m\u001b[1;32m    102\u001b[0m         \u001b[0;32mreturn\u001b[0m \u001b[0mself\u001b[0m\u001b[0;34m.\u001b[0m\u001b[0msigmaf\u001b[0m \u001b[0;34m*\u001b[0m \u001b[0mnp\u001b[0m\u001b[0;34m.\u001b[0m\u001b[0mexp\u001b[0m\u001b[0;34m(\u001b[0m\u001b[0;34m-\u001b[0m\u001b[0;36m.5\u001b[0m \u001b[0;34m*\u001b[0m \u001b[0mr\u001b[0m \u001b[0;34m**\u001b[0m \u001b[0;36m2\u001b[0m \u001b[0;34m/\u001b[0m \u001b[0mself\u001b[0m\u001b[0;34m.\u001b[0m\u001b[0ml\u001b[0m \u001b[0;34m**\u001b[0m \u001b[0;36m2\u001b[0m\u001b[0;34m)\u001b[0m \u001b[0;34m+\u001b[0m \u001b[0mself\u001b[0m\u001b[0;34m.\u001b[0m\u001b[0msigman\u001b[0m \u001b[0;34m*\u001b[0m \u001b[0mkronDelta\u001b[0m\u001b[0;34m(\u001b[0m\u001b[0mX\u001b[0m\u001b[0;34m,\u001b[0m \u001b[0mXstar\u001b[0m\u001b[0;34m)\u001b[0m\u001b[0;34m\u001b[0m\u001b[0;34m\u001b[0m\u001b[0m\n\u001b[1;32m    103\u001b[0m \u001b[0;34m\u001b[0m\u001b[0m\n",
            "\u001b[0;32m/usr/local/lib/python3.6/dist-packages/pyGPGO/covfunc.py\u001b[0m in \u001b[0;36ml2norm_\u001b[0;34m(X, Xstar)\u001b[0m\n\u001b[1;32m     30\u001b[0m         \u001b[0mPairwise\u001b[0m \u001b[0meuclidian\u001b[0m \u001b[0mdistance\u001b[0m \u001b[0mbetween\u001b[0m \u001b[0mrow\u001b[0m \u001b[0mpairs\u001b[0m \u001b[0mof\u001b[0m\u001b[0;31m \u001b[0m\u001b[0;31m`\u001b[0m\u001b[0mX\u001b[0m\u001b[0;31m`\u001b[0m \u001b[0;32mand\u001b[0m\u001b[0;31m \u001b[0m\u001b[0;31m`\u001b[0m\u001b[0mXstar\u001b[0m\u001b[0;31m`\u001b[0m\u001b[0;34m.\u001b[0m\u001b[0;34m\u001b[0m\u001b[0;34m\u001b[0m\u001b[0m\n\u001b[1;32m     31\u001b[0m     \"\"\"\n\u001b[0;32m---> 32\u001b[0;31m     \u001b[0;32mreturn\u001b[0m \u001b[0mcdist\u001b[0m\u001b[0;34m(\u001b[0m\u001b[0mX\u001b[0m\u001b[0;34m,\u001b[0m \u001b[0mXstar\u001b[0m\u001b[0;34m)\u001b[0m\u001b[0;34m\u001b[0m\u001b[0;34m\u001b[0m\u001b[0m\n\u001b[0m\u001b[1;32m     33\u001b[0m \u001b[0;34m\u001b[0m\u001b[0m\n\u001b[1;32m     34\u001b[0m \u001b[0;34m\u001b[0m\u001b[0m\n",
            "\u001b[0;32m/usr/local/lib/python3.6/dist-packages/scipy/spatial/distance.py\u001b[0m in \u001b[0;36mcdist\u001b[0;34m(XA, XB, metric, *args, **kwargs)\u001b[0m\n\u001b[1;32m   2719\u001b[0m         \u001b[0;32mraise\u001b[0m \u001b[0mValueError\u001b[0m\u001b[0;34m(\u001b[0m\u001b[0;34m'XB must be a 2-dimensional array.'\u001b[0m\u001b[0;34m)\u001b[0m\u001b[0;34m\u001b[0m\u001b[0;34m\u001b[0m\u001b[0m\n\u001b[1;32m   2720\u001b[0m     \u001b[0;32mif\u001b[0m \u001b[0ms\u001b[0m\u001b[0;34m[\u001b[0m\u001b[0;36m1\u001b[0m\u001b[0;34m]\u001b[0m \u001b[0;34m!=\u001b[0m \u001b[0msB\u001b[0m\u001b[0;34m[\u001b[0m\u001b[0;36m1\u001b[0m\u001b[0;34m]\u001b[0m\u001b[0;34m:\u001b[0m\u001b[0;34m\u001b[0m\u001b[0;34m\u001b[0m\u001b[0m\n\u001b[0;32m-> 2721\u001b[0;31m         raise ValueError('XA and XB must have the same number of columns '\n\u001b[0m\u001b[1;32m   2722\u001b[0m                          '(i.e. feature dimension.)')\n\u001b[1;32m   2723\u001b[0m \u001b[0;34m\u001b[0m\u001b[0m\n",
            "\u001b[0;31mValueError\u001b[0m: XA and XB must have the same number of columns (i.e. feature dimension.)"
          ]
        }
      ]
    },
    {
      "cell_type": "markdown",
      "metadata": {
        "id": "WNIW09PXmA1_",
        "colab_type": "text"
      },
      "source": [
        "#### Plot selected points during run\n"
      ]
    },
    {
      "cell_type": "code",
      "metadata": {
        "id": "5bLCJrmMP45e",
        "colab_type": "code",
        "outputId": "12ac9e04-100a-428f-8aaa-e2030f3611e2",
        "colab": {
          "base_uri": "https://localhost:8080/",
          "height": 357
        }
      },
      "source": [
        "from mpl_toolkits.mplot3d import Axes3D\n",
        "import matplotlib.pyplot as plt\n",
        "import numpy as np\n",
        "\n",
        "fig = plt.figure(figsize=(10,6))\n",
        "ax = plt.axes(projection='3d')\n",
        "\n",
        "x = [val[0]['lr'] for val in bo_step1_expected.history]\n",
        "y = [val[0]['momentum'] for val in bo_step1_expected.history]\n",
        "z = [val[1] for val in bo_step1_expected.history]\n",
        "\n",
        "img = ax.scatter(x, y, z, c=z, marker=\"o\", cmap=\"coolwarm\", depthshade=True)\n",
        "plt.colorbar(img)\n",
        "ax.set_xlabel('Learning rate',labelpad=10)\n",
        "ax.set_ylabel('Momentum',labelpad=10)\n",
        "ax.set_zlabel('Accuracy',labelpad=10)\n",
        "ax.dist = 13"
      ],
      "execution_count": 0,
      "outputs": [
        {
          "output_type": "display_data",
          "data": {
            "image/png": "[encoded data removed]",
            "text/plain": [
              "<Figure size 720x432 with 2 Axes>"
            ]
          },
          "metadata": {
            "tags": []
          }
        }
      ]
    },
    {
      "cell_type": "markdown",
      "metadata": {
        "id": "3PTACFE5Qjgx",
        "colab_type": "text"
      },
      "source": [
        "#### Plot best seen points during run"
      ]
    },
    {
      "cell_type": "code",
      "metadata": {
        "id": "Egj_lnhGlh6Y",
        "colab_type": "code",
        "outputId": "caa632e8-1026-427a-ee94-3b783cdf2229",
        "colab": {
          "base_uri": "https://localhost:8080/",
          "height": 357
        }
      },
      "source": [
        "from mpl_toolkits.mplot3d import Axes3D\n",
        "import matplotlib.pyplot as plt\n",
        "import numpy as np\n",
        "\n",
        "fig = plt.figure(figsize=(10,6))\n",
        "ax = plt.axes(projection='3d')\n",
        "\n",
        "x = [val[0]['lr'] for val in bo_step1_expected.history]\n",
        "y = [val[0]['momentum'] for val in bo_step1_expected.history]\n",
        "z = [val[2] for val in bo_step1_expected.history]\n",
        "\n",
        "img = ax.scatter(x, y, z, c=z, marker=\"o\", cmap=\"coolwarm\")\n",
        "plt.colorbar(img,)\n",
        "ax.set_xlabel('Learning rate',labelpad=10)\n",
        "ax.set_ylabel('Momentum',labelpad=10)\n",
        "ax.set_zlabel('Accuracy',labelpad=10)\n",
        "ax.dist = 13"
      ],
      "execution_count": 0,
      "outputs": [
        {
          "output_type": "display_data",
          "data": {
            "image/png": "[encoded data removed]",
            "text/plain": [
              "<Figure size 720x432 with 2 Axes>"
            ]
          },
          "metadata": {
            "tags": []
          }
        }
      ]
    }
  ]
}